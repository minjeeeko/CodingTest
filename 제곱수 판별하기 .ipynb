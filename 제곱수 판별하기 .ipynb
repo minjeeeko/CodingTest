{
 "cells": [
  {
   "cell_type": "markdown",
   "id": "cf273cee",
   "metadata": {},
   "source": [
    "### Solution 1"
   ]
  },
  {
   "cell_type": "code",
   "execution_count": null,
   "id": "e0546b44",
   "metadata": {},
   "outputs": [],
   "source": [
    "def solution(n):\n",
    "    if n == int(n ** 0.5) ** 2: \n",
    "        answer = 1\n",
    "    else: \n",
    "        answer = 2\n",
    "    return answer"
   ]
  },
  {
   "cell_type": "markdown",
   "id": "b0f21fba",
   "metadata": {},
   "source": [
    "### Solution 2"
   ]
  },
  {
   "cell_type": "code",
   "execution_count": null,
   "id": "eff749a8",
   "metadata": {},
   "outputs": [],
   "source": [
    "def solution(n):\n",
    "    return 1 if (n ** 0.5).is_integer() else 2"
   ]
  }
 ],
 "metadata": {
  "kernelspec": {
   "display_name": "Python 3 (ipykernel)",
   "language": "python",
   "name": "python3"
  },
  "language_info": {
   "codemirror_mode": {
    "name": "ipython",
    "version": 3
   },
   "file_extension": ".py",
   "mimetype": "text/x-python",
   "name": "python",
   "nbconvert_exporter": "python",
   "pygments_lexer": "ipython3",
   "version": "3.9.13"
  }
 },
 "nbformat": 4,
 "nbformat_minor": 5
}
