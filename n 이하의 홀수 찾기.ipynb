{
 "cells": [
  {
   "cell_type": "markdown",
   "id": "10b92d67",
   "metadata": {},
   "source": [
    "### Solution 1"
   ]
  },
  {
   "cell_type": "code",
   "execution_count": null,
   "id": "049877e8",
   "metadata": {},
   "outputs": [],
   "source": [
    "def solution(n):\n",
    "    answer = []\n",
    "    if n % 2 == 0:\n",
    "        for i in range(n):\n",
    "            if i % 2 == 1:\n",
    "                answer.append(i)\n",
    "    if n % 2 == 1:\n",
    "        for i in range(n+1):\n",
    "            if i % 2 == 1:\n",
    "                answer.append(i)\n",
    "    return answer"
   ]
  },
  {
   "cell_type": "markdown",
   "id": "15d183c0",
   "metadata": {},
   "source": [
    "### Solution 2"
   ]
  },
  {
   "cell_type": "code",
   "execution_count": null,
   "id": "8bea468b",
   "metadata": {},
   "outputs": [],
   "source": [
    "def solution(n):\n",
    "\treturn [i for i in range(1, n+1, 2)]"
   ]
  }
 ],
 "metadata": {
  "kernelspec": {
   "display_name": "Python 3 (ipykernel)",
   "language": "python",
   "name": "python3"
  },
  "language_info": {
   "codemirror_mode": {
    "name": "ipython",
    "version": 3
   },
   "file_extension": ".py",
   "mimetype": "text/x-python",
   "name": "python",
   "nbconvert_exporter": "python",
   "pygments_lexer": "ipython3",
   "version": "3.9.13"
  }
 },
 "nbformat": 4,
 "nbformat_minor": 5
}
