{
 "cells": [
  {
   "cell_type": "markdown",
   "id": "2a9e2db9",
   "metadata": {},
   "source": [
    "### Solution 1"
   ]
  },
  {
   "cell_type": "code",
   "execution_count": null,
   "id": "dce8db7f",
   "metadata": {},
   "outputs": [],
   "source": [
    "def solution(a, b):\n",
    "    lst = []\n",
    "    if a == b:\n",
    "        return a\n",
    "    else:\n",
    "        for i in range(a, b+1):\n",
    "            lst.append(i)\n",
    "        for i in range(b, a+1):\n",
    "            lst.append(i)\n",
    "        return sum(lst)​"
   ]
  },
  {
   "cell_type": "markdown",
   "id": "86f21da2",
   "metadata": {},
   "source": [
    "### Solution 2"
   ]
  },
  {
   "cell_type": "code",
   "execution_count": null,
   "id": "7ea26ce6",
   "metadata": {},
   "outputs": [],
   "source": [
    "def adder(a, b):\n",
    "    return sum(range(min(a,b),max(a,b)+1))"
   ]
  }
 ],
 "metadata": {
  "kernelspec": {
   "display_name": "Python 3 (ipykernel)",
   "language": "python",
   "name": "python3"
  },
  "language_info": {
   "codemirror_mode": {
    "name": "ipython",
    "version": 3
   },
   "file_extension": ".py",
   "mimetype": "text/x-python",
   "name": "python",
   "nbconvert_exporter": "python",
   "pygments_lexer": "ipython3",
   "version": "3.9.13"
  }
 },
 "nbformat": 4,
 "nbformat_minor": 5
}
