{
 "cells": [
  {
   "cell_type": "markdown",
   "id": "f2c8defd",
   "metadata": {},
   "source": [
    "### Solution 1"
   ]
  },
  {
   "cell_type": "code",
   "execution_count": null,
   "id": "1ffa26b0",
   "metadata": {},
   "outputs": [],
   "source": [
    "def solution(n):\n",
    "    return list(map(int, str(n)))[::-1]"
   ]
  },
  {
   "cell_type": "markdown",
   "id": "c8b90624",
   "metadata": {},
   "source": [
    "### Solution 2"
   ]
  },
  {
   "cell_type": "code",
   "execution_count": null,
   "id": "1c7b1ec2",
   "metadata": {},
   "outputs": [],
   "source": [
    "def solution(n):\n",
    "    return list(map(int, reversed(str(n))))"
   ]
  }
 ],
 "metadata": {
  "kernelspec": {
   "display_name": "Python 3 (ipykernel)",
   "language": "python",
   "name": "python3"
  },
  "language_info": {
   "codemirror_mode": {
    "name": "ipython",
    "version": 3
   },
   "file_extension": ".py",
   "mimetype": "text/x-python",
   "name": "python",
   "nbconvert_exporter": "python",
   "pygments_lexer": "ipython3",
   "version": "3.9.13"
  }
 },
 "nbformat": 4,
 "nbformat_minor": 5
}
