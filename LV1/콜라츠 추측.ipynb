{
 "cells": [
  {
   "cell_type": "code",
   "execution_count": null,
   "id": "dbe6eb17",
   "metadata": {},
   "outputs": [],
   "source": [
    "def solution(num):\n",
    "    if num == 1:\n",
    "        return 0 # 만약에 숫자가 1이면 0 출력 \n",
    "    for i in range(500): # 500회 안으로 \n",
    "        num = num/2 if num%2 == 0 else num*3 + 1 # 짝수면 2 나누기 홀수면 3 곱하기 더하기 1 \n",
    "        if num == 1: # 이렇게 해서 1이 나오면 \n",
    "            return i + 1 # 0부터 시작했고, 횟수니까 반복한 횟수 + 1 해서 출력 \n",
    "    return -1 # 아니면 -1 출력"
   ]
  }
 ],
 "metadata": {
  "kernelspec": {
   "display_name": "Python 3 (ipykernel)",
   "language": "python",
   "name": "python3"
  },
  "language_info": {
   "codemirror_mode": {
    "name": "ipython",
    "version": 3
   },
   "file_extension": ".py",
   "mimetype": "text/x-python",
   "name": "python",
   "nbconvert_exporter": "python",
   "pygments_lexer": "ipython3",
   "version": "3.9.13"
  }
 },
 "nbformat": 4,
 "nbformat_minor": 5
}
