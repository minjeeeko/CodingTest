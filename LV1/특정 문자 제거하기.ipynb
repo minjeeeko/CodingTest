{
 "cells": [
  {
   "cell_type": "markdown",
   "id": "5039782c",
   "metadata": {},
   "source": [
    "### Solution 1"
   ]
  },
  {
   "cell_type": "code",
   "execution_count": null,
   "id": "55fde0e9",
   "metadata": {},
   "outputs": [],
   "source": [
    "def solution(my_string):\n",
    "    return \"\".join([i for i in my_string if not(i in \"aeiou\")])"
   ]
  },
  {
   "cell_type": "markdown",
   "id": "8a421e37",
   "metadata": {},
   "source": [
    "### Solution 2"
   ]
  },
  {
   "cell_type": "code",
   "execution_count": null,
   "id": "4b11a5d2",
   "metadata": {},
   "outputs": [],
   "source": [
    "def solution(my_string):\n",
    "    vowels = ['a','e','i','o','u']\n",
    "    for vowel in vowels:\n",
    "        my_string = my_string.replace(vowel, '')\n",
    "    return my_string"
   ]
  },
  {
   "cell_type": "markdown",
   "id": "0c7b8722",
   "metadata": {},
   "source": [
    "### Solution 3"
   ]
  },
  {
   "cell_type": "code",
   "execution_count": null,
   "id": "bcb816d7",
   "metadata": {},
   "outputs": [],
   "source": [
    "def solution(my_string):\n",
    "    li = list(my_string)\n",
    "    remove ={'a', 'e', 'i', 'o', 'u'}\n",
    "    return ''.join(i for i in li if i not in remove)"
   ]
  }
 ],
 "metadata": {
  "kernelspec": {
   "display_name": "Python 3 (ipykernel)",
   "language": "python",
   "name": "python3"
  },
  "language_info": {
   "codemirror_mode": {
    "name": "ipython",
    "version": 3
   },
   "file_extension": ".py",
   "mimetype": "text/x-python",
   "name": "python",
   "nbconvert_exporter": "python",
   "pygments_lexer": "ipython3",
   "version": "3.9.13"
  }
 },
 "nbformat": 4,
 "nbformat_minor": 5
}
