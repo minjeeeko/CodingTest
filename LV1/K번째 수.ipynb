{
 "cells": [
  {
   "cell_type": "markdown",
   "id": "d6de917a",
   "metadata": {},
   "source": [
    "### Solution 1"
   ]
  },
  {
   "cell_type": "code",
   "execution_count": null,
   "id": "eff813df",
   "metadata": {},
   "outputs": [],
   "source": [
    "def solution(array, commands):\n",
    "    answer = []\n",
    "    for com in commands: # 반복문이 숫자로만 돌아가지 않는다는 걸 유의하자!\n",
    "        arr = array[com[0]-1:com[1]]\n",
    "        arr.sort()\n",
    "        val = arr[com[2]-1]\n",
    "        answer.append(val)\n",
    "    return answer"
   ]
  },
  {
   "cell_type": "markdown",
   "id": "c8a75708",
   "metadata": {},
   "source": [
    "### Solution 2"
   ]
  },
  {
   "cell_type": "code",
   "execution_count": null,
   "id": "d3613a9b",
   "metadata": {},
   "outputs": [],
   "source": [
    "def solution(array, commands):\n",
    "    answer = []\n",
    "    for command in commands:\n",
    "        i,j,k = command\n",
    "        answer.append(list(sorted(array[i-1:j]))[k-1])\n",
    "    return answer"
   ]
  }
 ],
 "metadata": {
  "kernelspec": {
   "display_name": "Python 3 (ipykernel)",
   "language": "python",
   "name": "python3"
  },
  "language_info": {
   "codemirror_mode": {
    "name": "ipython",
    "version": 3
   },
   "file_extension": ".py",
   "mimetype": "text/x-python",
   "name": "python",
   "nbconvert_exporter": "python",
   "pygments_lexer": "ipython3",
   "version": "3.9.13"
  }
 },
 "nbformat": 4,
 "nbformat_minor": 5
}
