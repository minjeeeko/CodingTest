{
 "cells": [
  {
   "cell_type": "markdown",
   "id": "1a137240",
   "metadata": {},
   "source": [
    "두 정수 left와 right가 매개변수로 주어집니다. \n",
    "\n",
    "left부터 right까지의 모든 수들 중에서, 약수의 개수가 짝수인 수는 더하고, \n",
    "\n",
    "약수의 개수가 홀수인 수는 뺀 수를 return 하도록 solution 함수를 완성해주세요."
   ]
  },
  {
   "cell_type": "markdown",
   "id": "5ef0b3ad",
   "metadata": {},
   "source": [
    "#### 풀이\n",
    "\n",
    "괜히 바보같이 리스트에 약수를 담고 그 리스트의 개수를 구한다고 헤맴 ㅎ\n",
    "그냥 갯수 자체를 세면 훨씬 편한 문제였다 "
   ]
  },
  {
   "cell_type": "code",
   "execution_count": null,
   "id": "f03a016d",
   "metadata": {},
   "outputs": [],
   "source": [
    "def solution(left, right):\n",
    "    cnt = 0\n",
    "    for i in range(left, right+1): # 13, 14, 15, 16, 17\n",
    "        new_cnt = 0\n",
    "        for j in range(1, i+1): # 1~13\n",
    "            if i % j == 0:\n",
    "                new_cnt += 1\n",
    "                \n",
    "        if new_cnt % 2 == 0:\n",
    "            cnt += i\n",
    "        else:\n",
    "            cnt -= i\n",
    "    return cnt"
   ]
  }
 ],
 "metadata": {
  "kernelspec": {
   "display_name": "Python 3 (ipykernel)",
   "language": "python",
   "name": "python3"
  },
  "language_info": {
   "codemirror_mode": {
    "name": "ipython",
    "version": 3
   },
   "file_extension": ".py",
   "mimetype": "text/x-python",
   "name": "python",
   "nbconvert_exporter": "python",
   "pygments_lexer": "ipython3",
   "version": "3.9.13"
  }
 },
 "nbformat": 4,
 "nbformat_minor": 5
}
