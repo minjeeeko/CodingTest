{
 "cells": [
  {
   "cell_type": "markdown",
   "id": "4188a0fb",
   "metadata": {},
   "source": [
    "### Solution 1"
   ]
  },
  {
   "cell_type": "code",
   "execution_count": null,
   "id": "d737a988",
   "metadata": {},
   "outputs": [],
   "source": [
    "def solution(my_string):\n",
    "    return my_string[::-1]\n",
    "    \n",
    "    # [::-1]을 사용하면 문자열이든, list든 반전됨"
   ]
  },
  {
   "cell_type": "markdown",
   "id": "e1b8c7d6",
   "metadata": {},
   "source": [
    "### Solution 2"
   ]
  },
  {
   "cell_type": "code",
   "execution_count": null,
   "id": "9461c2d4",
   "metadata": {},
   "outputs": [],
   "source": [
    "def solution(my_string):\n",
    "    return ''.join(list(reversed(my_string)))"
   ]
  },
  {
   "cell_type": "markdown",
   "id": "39a09c1a",
   "metadata": {},
   "source": [
    "1. ''.join(list)\n",
    "['a', 'b', 'c'] 이런 리스트를 'abc'의 문자열로 합쳐주는 함수이다 .\n",
    " \n",
    "1-1. '-'.join(list)\n",
    "['a', 'b', 'c'] 가 'a-b-c' 이런식으로 합쳐지게 된다."
   ]
  },
  {
   "cell_type": "code",
   "execution_count": null,
   "id": "0f83aa7c",
   "metadata": {},
   "outputs": [],
   "source": []
  }
 ],
 "metadata": {
  "kernelspec": {
   "display_name": "Python 3 (ipykernel)",
   "language": "python",
   "name": "python3"
  },
  "language_info": {
   "codemirror_mode": {
    "name": "ipython",
    "version": 3
   },
   "file_extension": ".py",
   "mimetype": "text/x-python",
   "name": "python",
   "nbconvert_exporter": "python",
   "pygments_lexer": "ipython3",
   "version": "3.9.13"
  }
 },
 "nbformat": 4,
 "nbformat_minor": 5
}
