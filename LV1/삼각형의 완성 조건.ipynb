{
 "cells": [
  {
   "cell_type": "markdown",
   "id": "f2bbc2f6",
   "metadata": {},
   "source": [
    "### Solution 1"
   ]
  },
  {
   "cell_type": "code",
   "execution_count": null,
   "id": "faf86808",
   "metadata": {},
   "outputs": [],
   "source": [
    "def solution(sides):\n",
    "    sides.sort()\n",
    "    if sides[2] >= (sides[0] + sides[1]):\n",
    "        answer = 2\n",
    "    else: \n",
    "        answer = 1\n",
    "    return answer"
   ]
  },
  {
   "cell_type": "markdown",
   "id": "2d6a621b",
   "metadata": {},
   "source": [
    "### Solution 2"
   ]
  },
  {
   "cell_type": "code",
   "execution_count": null,
   "id": "64ae7008",
   "metadata": {},
   "outputs": [],
   "source": [
    "def solution(sides):\n",
    "    return 1 if max(sides) < (sum(sides) - max(sides)) else 2"
   ]
  }
 ],
 "metadata": {
  "kernelspec": {
   "display_name": "Python 3 (ipykernel)",
   "language": "python",
   "name": "python3"
  },
  "language_info": {
   "codemirror_mode": {
    "name": "ipython",
    "version": 3
   },
   "file_extension": ".py",
   "mimetype": "text/x-python",
   "name": "python",
   "nbconvert_exporter": "python",
   "pygments_lexer": "ipython3",
   "version": "3.9.13"
  }
 },
 "nbformat": 4,
 "nbformat_minor": 5
}
