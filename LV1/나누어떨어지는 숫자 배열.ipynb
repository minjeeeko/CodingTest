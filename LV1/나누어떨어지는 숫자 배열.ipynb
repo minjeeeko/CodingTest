{
 "cells": [
  {
   "cell_type": "markdown",
   "id": "9b36cb7c",
   "metadata": {},
   "source": [
    "### Solution 1"
   ]
  },
  {
   "cell_type": "code",
   "execution_count": null,
   "id": "f32eb5c1",
   "metadata": {},
   "outputs": [],
   "source": [
    "def solution(arr, divisor): \n",
    "    return sorted([n for n in arr if n % divisor == 0]) or [-1]"
   ]
  },
  {
   "cell_type": "markdown",
   "id": "18006ba4",
   "metadata": {},
   "source": [
    "### Solution 2"
   ]
  },
  {
   "cell_type": "code",
   "execution_count": null,
   "id": "e633f4ea",
   "metadata": {},
   "outputs": [],
   "source": [
    "def solution(arr, divisor):\n",
    "    answer = []\n",
    "    for i in range(len(arr)):\n",
    "        if arr[i] % divisor == 0:\n",
    "            answer.append(arr[i])\n",
    "            answer.sort()\n",
    "    if answer == []:\n",
    "        answer.append(-1)\n",
    "    return answer"
   ]
  }
 ],
 "metadata": {
  "kernelspec": {
   "display_name": "Python 3 (ipykernel)",
   "language": "python",
   "name": "python3"
  },
  "language_info": {
   "codemirror_mode": {
    "name": "ipython",
    "version": 3
   },
   "file_extension": ".py",
   "mimetype": "text/x-python",
   "name": "python",
   "nbconvert_exporter": "python",
   "pygments_lexer": "ipython3",
   "version": "3.9.13"
  }
 },
 "nbformat": 4,
 "nbformat_minor": 5
}
