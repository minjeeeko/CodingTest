{
 "cells": [
  {
   "cell_type": "code",
   "execution_count": null,
   "id": "0f15b353",
   "metadata": {},
   "outputs": [],
   "source": [
    "def solution(s):\n",
    "    if ((len(s) == 4) | (len(s)==6)) & s.isdecimal():\n",
    "        return True\n",
    "    else:\n",
    "        return False"
   ]
  }
 ],
 "metadata": {
  "kernelspec": {
   "display_name": "Python 3 (ipykernel)",
   "language": "python",
   "name": "python3"
  },
  "language_info": {
   "codemirror_mode": {
    "name": "ipython",
    "version": 3
   },
   "file_extension": ".py",
   "mimetype": "text/x-python",
   "name": "python",
   "nbconvert_exporter": "python",
   "pygments_lexer": "ipython3",
   "version": "3.9.13"
  }
 },
 "nbformat": 4,
 "nbformat_minor": 5
}
