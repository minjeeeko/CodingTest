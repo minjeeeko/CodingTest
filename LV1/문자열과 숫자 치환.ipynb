{
 "cells": [
  {
   "cell_type": "markdown",
   "id": "5cf0aa8c",
   "metadata": {},
   "source": [
    "### Solution 1"
   ]
  },
  {
   "cell_type": "code",
   "execution_count": null,
   "id": "56b50285",
   "metadata": {},
   "outputs": [],
   "source": [
    "word = {\"zero\":\"0\", \"one\":\"1\", \"two\":\"2\", \"three\":\"3\", \n",
    "        \"four\":\"4\", \"five\":\"5\", \"six\":\"6\", \"seven\":\"7\", \"eight\":\"8\", \"nine\":\"9\"}\n",
    "\n",
    "\n",
    "def solution(s):\n",
    "    for key, value in word.items():\n",
    "        num = s.replace(key, value)\n",
    "    \n",
    "    return int(num)\n",
    "    \n",
    "    \n",
    "## 공부 공부 \n",
    "## for key, value in word.items():"
   ]
  },
  {
   "cell_type": "markdown",
   "id": "ec5975e0",
   "metadata": {},
   "source": [
    "### Solution 2"
   ]
  },
  {
   "cell_type": "code",
   "execution_count": null,
   "id": "a45780f1",
   "metadata": {},
   "outputs": [],
   "source": [
    "def solution(s):\n",
    "    a = ['zero', 'one', 'two', 'three', 'four',\n",
    "         'five', 'six', 'seven', 'eight', 'nine']\n",
    "    for i in a:\n",
    "        s = s.replace(i, str(a.index(i)))\n",
    "    return int(s)"
   ]
  }
 ],
 "metadata": {
  "kernelspec": {
   "display_name": "Python 3 (ipykernel)",
   "language": "python",
   "name": "python3"
  },
  "language_info": {
   "codemirror_mode": {
    "name": "ipython",
    "version": 3
   },
   "file_extension": ".py",
   "mimetype": "text/x-python",
   "name": "python",
   "nbconvert_exporter": "python",
   "pygments_lexer": "ipython3",
   "version": "3.9.13"
  }
 },
 "nbformat": 4,
 "nbformat_minor": 5
}
