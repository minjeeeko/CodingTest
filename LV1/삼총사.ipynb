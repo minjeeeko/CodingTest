{
 "cells": [
  {
   "cell_type": "markdown",
   "id": "6e04ecd2",
   "metadata": {},
   "source": [
    "한국중학교에 다니는 학생들은 각자 정수 번호를 갖고 있습니다. 이 학교 학생 3명의 정수 번호를 더했을 때 0이 되면 3명의 학생은 삼총사라고 합니다. 예를 들어, 5명의 학생이 있고, 각각의 정수 번호가 순서대로 -2, 3, 0, 2, -5일 때, 첫 번째, 세 번째, 네 번째 학생의 정수 번호를 더하면 0이므로 세 학생은 삼총사입니다. 또한, 두 번째, 네 번째, 다섯 번째 학생의 정수 번호를 더해도 0이므로 세 학생도 삼총사입니다. 따라서 이 경우 한국중학교에서는 두 가지 방법으로 삼총사를 만들 수 있습니다.\n",
    "한국중학교 학생들의 번호를 나타내는 정수 배열 number가 매개변수로 주어질 때, 학생들 중 삼총사를 만들 수 있는 방법의 수를 return 하도록 solution 함수를 완성하세요."
   ]
  },
  {
   "cell_type": "markdown",
   "id": "517d27ed",
   "metadata": {},
   "source": [
    "#### 풀이\n",
    "\n",
    "list 내에서 만들 수 있는 조합을 구해야하는데, 재귀도 모르고 함수도 못쓰니까 무족권 노가다로 ㅎ\n",
    "\n",
    "만약에 [1, 2, 3, 4] 이런거면\n",
    "(1, 2, 3)\n",
    "(1, 2, 4)\n",
    "(2, 3, 4) \n",
    "\n",
    "이렇게 되어야 하는데 \n",
    "\n",
    "    for i in range(len(number)-2): # 1,2 \n",
    "        for j in range(i+1, len(number)-1): # 2,3 \n",
    "            for k in range(j+1, len(number)): # 3, 4\n",
    "                print(number[i],number[j],number[k])\n",
    "                \n",
    "이렇게 작성을 하면, \n",
    "\n",
    "(1, 2, 3)\n",
    "(1, 2, 4)\n",
    "(1, 3, 4)\n",
    "(2, 3, 4)\n",
    "\n",
    "이런식으로 된다...! \n",
    "                "
   ]
  },
  {
   "cell_type": "code",
   "execution_count": null,
   "id": "91025577",
   "metadata": {},
   "outputs": [],
   "source": [
    "def solution(number):\n",
    "    cnt = 0\n",
    "    # if len(number = 4)\n",
    "    for i in range(len(number)-2): \n",
    "        for j in range(i+1, len(number)-1): \n",
    "            for k in range(j+1, len(number)):\n",
    "                print(number[i],number[j],number[k])\n",
    "                if number[i]+number[j]+number[k] == 0:\n",
    "                    cnt += 1\n",
    "                \n",
    "    return cnt"
   ]
  },
  {
   "cell_type": "code",
   "execution_count": 3,
   "id": "9cf07712",
   "metadata": {},
   "outputs": [
    {
     "name": "stdout",
     "output_type": "stream",
     "text": [
      "1 2 3\n",
      "1 2 4\n",
      "1 3 4\n",
      "2 3 4\n"
     ]
    }
   ],
   "source": [
    "for i in range(2): # 1, 2\n",
    "    for j in range(i+1, 3): # 2, 3\n",
    "        for k in range(j+1, 4): # 3, 4\n",
    "            print(i+1, j+1, k+1)"
   ]
  },
  {
   "cell_type": "code",
   "execution_count": null,
   "id": "c4cd5877",
   "metadata": {},
   "outputs": [],
   "source": []
  }
 ],
 "metadata": {
  "kernelspec": {
   "display_name": "Python 3 (ipykernel)",
   "language": "python",
   "name": "python3"
  },
  "language_info": {
   "codemirror_mode": {
    "name": "ipython",
    "version": 3
   },
   "file_extension": ".py",
   "mimetype": "text/x-python",
   "name": "python",
   "nbconvert_exporter": "python",
   "pygments_lexer": "ipython3",
   "version": "3.9.13"
  }
 },
 "nbformat": 4,
 "nbformat_minor": 5
}
