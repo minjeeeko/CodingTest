{
 "cells": [
  {
   "cell_type": "markdown",
   "id": "10acc216",
   "metadata": {},
   "source": [
    "### Solution 1"
   ]
  },
  {
   "cell_type": "code",
   "execution_count": null,
   "id": "114856b8",
   "metadata": {},
   "outputs": [],
   "source": [
    "def solution(rsp):\n",
    "    d = {'0':'5','2':'0','5':'2'}\n",
    "    return ''.join(d[i] for i in rsp)​"
   ]
  },
  {
   "cell_type": "markdown",
   "id": "d4c6bc57",
   "metadata": {},
   "source": [
    "### Solution 2"
   ]
  },
  {
   "cell_type": "code",
   "execution_count": null,
   "id": "3b8a838a",
   "metadata": {},
   "outputs": [],
   "source": [
    "def solution(rsp):\n",
    "    rsp = list(rsp)\n",
    "    for i in range(len(rsp)):\n",
    "        if rsp[i] == '2': \n",
    "            rsp[i] = '0'\n",
    "        elif rsp[i] == '0':\n",
    "            rsp[i] = '5'\n",
    "        else: \n",
    "            rsp[i] = '2'\n",
    "    return ''.join(rsp)"
   ]
  }
 ],
 "metadata": {
  "kernelspec": {
   "display_name": "Python 3 (ipykernel)",
   "language": "python",
   "name": "python3"
  },
  "language_info": {
   "codemirror_mode": {
    "name": "ipython",
    "version": 3
   },
   "file_extension": ".py",
   "mimetype": "text/x-python",
   "name": "python",
   "nbconvert_exporter": "python",
   "pygments_lexer": "ipython3",
   "version": "3.9.13"
  }
 },
 "nbformat": 4,
 "nbformat_minor": 5
}
